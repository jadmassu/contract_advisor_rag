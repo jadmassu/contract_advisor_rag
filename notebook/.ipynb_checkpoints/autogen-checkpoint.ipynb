{
 "cells": [
  {
   "cell_type": "code",
   "execution_count": 5,
   "id": "6d5ed95a-d627-45a1-933a-4b60a53514a4",
   "metadata": {
    "tags": []
   },
   "outputs": [],
   "source": [
    "!pip install -qU  pyautogen"
   ]
  },
  {
   "cell_type": "code",
   "execution_count": 6,
   "id": "755ffa3b-c299-4bcd-aff0-334b0d9c99af",
   "metadata": {
    "tags": []
   },
   "outputs": [
    {
     "data": {
      "text/plain": [
       "True"
      ]
     },
     "execution_count": 6,
     "metadata": {},
     "output_type": "execute_result"
    }
   ],
   "source": [
    "import os, sys\n",
    "from dotenv import load_dotenv\n",
    "rpath = os.path.abspath('/home/user/Documents/10/w11/contract_advisor_rag')\n",
    "\n",
    "if rpath not in sys.path:\n",
    "    sys.path.insert(0, rpath)\n",
    "load_dotenv()"
   ]
  },
  {
   "cell_type": "code",
   "execution_count": 24,
   "id": "d64d6d48-c502-4afa-a0ad-55e478cc7dce",
   "metadata": {
    "tags": []
   },
   "outputs": [],
   "source": [
    "import os\n",
    "from autogen import AssistantAgent, UserProxyAgent,agentchat\n",
    "\n",
    "llm_config = {\"model\": \"gpt-4\", \"api_key\": os.environ[\"OPENAI_API_KEY\"]}\n",
    "assistant = AssistantAgent(\"assistant\", llm_config=llm_config)\n",
    "user_proxy = UserProxyAgent(\"user_proxy\", code_execution_config=False)\n",
    "\n",
    "# Start the chat#\n",
    "#user_proxy.initiate_chat(\n",
    " #   assistant,\n",
    "  #  message=\"Tell me a joke about NVDA and TESLA stock prices.\",\n",
    "#)"
   ]
  },
  {
   "cell_type": "code",
   "execution_count": null,
   "id": "c449d3a8-fec8-48a6-afed-35851d038149",
   "metadata": {},
   "outputs": [],
   "source": [
    "Assistant\n",
    "Worker\n",
    "User proxy\n"
   ]
  },
  {
   "cell_type": "code",
   "execution_count": 10,
   "id": "908dcc35-4bad-4326-ae2d-505695a5a542",
   "metadata": {
    "tags": []
   },
   "outputs": [],
   "source": [
    "def test():\n",
    "    return 1"
   ]
  },
  {
   "cell_type": "code",
   "execution_count": 12,
   "id": "ba67c17d-b587-49a5-80d8-858e11f87d7b",
   "metadata": {
    "tags": []
   },
   "outputs": [],
   "source": [
    "from typing import Annotated"
   ]
  },
  {
   "cell_type": "code",
   "execution_count": 14,
   "id": "a125d569-c8d6-440b-b9e3-beee15a77526",
   "metadata": {
    "tags": []
   },
   "outputs": [],
   "source": [
    "def test_ex(querry: Annotated[str,\"value\"]) -> str:\n",
    "    return test()"
   ]
  },
  {
   "cell_type": "code",
   "execution_count": 20,
   "id": "1310b94a-3886-423e-ba79-59eb7339548e",
   "metadata": {
    "tags": []
   },
   "outputs": [],
   "source": [
    "agentchat.register_function(\n",
    "    test_ex,\n",
    "    caller = assistant,\n",
    "    executor = assistant,\n",
    "    description = \"test\"\n",
    "\n",
    ")"
   ]
  },
  {
   "cell_type": "code",
   "execution_count": null,
   "id": "a01986f1-4488-45a8-a518-f99ccfbdd64b",
   "metadata": {
    "tags": []
   },
   "outputs": [],
   "source": [
    "user_proxy.initiate_chat(\n",
    "    assistant,\n",
    "    message=\"12\",\n",
    ")"
   ]
  },
  {
   "cell_type": "code",
   "execution_count": null,
   "id": "e98b2628-f1de-49b1-bdec-559aa32b1e82",
   "metadata": {},
   "outputs": [],
   "source": [
    "from backend.service.chroma_db_manager import ChromaDBManager\n",
    "from backend.service.rag_processor import RAGProcessor\n",
    "from backend.controller import Controller as controller"
   ]
  },
  {
   "cell_type": "code",
   "execution_count": null,
   "id": "baa8732f-bf7a-4181-b263-d3a72197cd30",
   "metadata": {},
   "outputs": [],
   "source": [
    "def init_process_ext(querry: Annotated[str,\"value\"]) -> str:\n",
    "    return controller.init_process()"
   ]
  },
  {
   "cell_type": "code",
   "execution_count": null,
   "id": "17ca4734-478d-4529-bd0f-be79f45734b2",
   "metadata": {},
   "outputs": [],
   "source": [
    "def prompte_ext(querry: Annotated[str,\"value\"]) -> str:\n",
    "    return controller.generate_prompt()"
   ]
  },
  {
   "cell_type": "code",
   "execution_count": null,
   "id": "76f9ad9f-b8fc-41cc-a0db-b0fffcb3b617",
   "metadata": {},
   "outputs": [],
   "source": [
    "def evaluation_ext(querry: Annotated[str,\"value\"]) -> str:\n",
    "    return controller.evaluate()"
   ]
  },
  {
   "cell_type": "code",
   "execution_count": null,
   "id": "2fbac63c-8511-4596-b656-585aad1ab4fc",
   "metadata": {},
   "outputs": [],
   "source": []
  }
 ],
 "metadata": {
  "kernelspec": {
   "display_name": "Python 3 (ipykernel)",
   "language": "python",
   "name": "python3"
  },
  "language_info": {
   "codemirror_mode": {
    "name": "ipython",
    "version": 3
   },
   "file_extension": ".py",
   "mimetype": "text/x-python",
   "name": "python",
   "nbconvert_exporter": "python",
   "pygments_lexer": "ipython3",
   "version": "3.11.7"
  }
 },
 "nbformat": 4,
 "nbformat_minor": 5
}
