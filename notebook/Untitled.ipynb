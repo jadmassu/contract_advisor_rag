{
 "cells": [
  {
   "cell_type": "code",
   "execution_count": null,
   "id": "b847601a-b44c-4637-bea2-3c5b24300e96",
   "metadata": {},
   "outputs": [],
   "source": [
    "%pip install -qU langchain-text-splitters"
   ]
  },
  {
   "cell_type": "code",
   "execution_count": null,
   "id": "e34f595e-3cb7-4487-a05f-f789e87ff197",
   "metadata": {
    "tags": []
   },
   "outputs": [],
   "source": [
    "%pip install aiofiles"
   ]
  },
  {
   "cell_type": "code",
   "execution_count": null,
   "id": "e19d5b12-53c5-4c3f-8bf4-d81f9a0b8ff3",
   "metadata": {
    "tags": []
   },
   "outputs": [],
   "source": [
    "%pip install python-docx"
   ]
  },
  {
   "cell_type": "code",
   "execution_count": null,
   "id": "ab2dc7b4-19fe-4f9e-92d1-6643e15ce985",
   "metadata": {
    "tags": []
   },
   "outputs": [],
   "source": [
    "!pip install langchainhub"
   ]
  },
  {
   "cell_type": "code",
   "execution_count": null,
   "id": "adbe00c5-bcb4-458a-8b7e-8b0026fa3365",
   "metadata": {
    "tags": []
   },
   "outputs": [],
   "source": [
    "import os, sys\n",
    "from dotenv import load_dotenv\n",
    "rpath = os.path.abspath('/home/user/Documents/10/w11/contract_advisor_rag')\n",
    "\n",
    "if rpath not in sys.path:\n",
    "    sys.path.insert(0, rpath)"
   ]
  },
  {
   "cell_type": "code",
   "execution_count": null,
   "id": "1237c588-c260-4ecf-a0db-6cc97241f493",
   "metadata": {
    "tags": []
   },
   "outputs": [],
   "source": [
    "from typing import AsyncIterator, Iterator\n",
    "\n",
    "from langchain_core.document_loaders import BaseLoader\n",
    "from langchain_core.documents import Document"
   ]
  },
  {
   "cell_type": "code",
   "execution_count": null,
   "id": "5ac85ae5-8e87-460d-a070-cca3fe0828c2",
   "metadata": {
    "tags": []
   },
   "outputs": [],
   "source": [
    "file_path = rpath + \"/data/Raptor Contract.docx\""
   ]
  },
  {
   "cell_type": "code",
   "execution_count": null,
   "id": "33ad0282-d482-4c01-9b07-e36d1b6d79fc",
   "metadata": {
    "tags": []
   },
   "outputs": [],
   "source": [
    "from docx import Document as DocxDocument\n",
    "from typing import Iterator\n",
    "def lazy_load(file_path) -> Iterator[Document]:  # <-- Does not take any arguments\n",
    "        \"\"\"A lazy loader that reads a file line by line.\n",
    "\n",
    "        When you're implementing lazy load methods, you should use a generator\n",
    "        to yield documents one by one.\n",
    "        \"\"\"\n",
    "        try:\n",
    "            doc = DocxDocument(file_path)\n",
    "            line_number = 0\n",
    "            for para in doc.paragraphs:\n",
    "                if para.text.strip():  # Skip empty paragraphs\n",
    "                    yield Document(\n",
    "                        page_content=para.text,\n",
    "                        metadata={\"line_number\": line_number, \"source\": file_path},\n",
    "                    )\n",
    "                    line_number += 1\n",
    "        except Exception as e:\n",
    "            print(f\"Error reading {file_path}: {str(e)}\")"
   ]
  },
  {
   "cell_type": "code",
   "execution_count": 139,
   "id": "5cd47a30-6d3d-4cd0-b6ba-517c031dbebf",
   "metadata": {
    "tags": []
   },
   "outputs": [
    {
     "data": {
      "text/plain": [
       "<generator object lazy_load at 0x7ede1984f1c0>"
      ]
     },
     "execution_count": 139,
     "metadata": {},
     "output_type": "execute_result"
    }
   ],
   "source": [
    "file = lazy_load(file_path)\n",
    "\n",
    "file"
   ]
  },
  {
   "cell_type": "code",
   "execution_count": null,
   "id": "930c4089-b346-431d-a741-71aba2625be3",
   "metadata": {},
   "outputs": [],
   "source": [
    "from langchain.text_splitter import RecursiveCharacterTextSplitter\n",
    "text_splitter = RecursiveCharacterTextSplitter(\n",
    "    # Set a really small chunk size, just to show.\n",
    "    separators=[\n",
    "        \"\\n\\n\",\n",
    "        \"\\n\",\n",
    "        \" \",\n",
    "        \".\",\n",
    "        \",\",\n",
    "        \"\\u200b\",  # Zero-width space\n",
    "        \"\\uff0c\",  # Fullwidth comma\n",
    "        \"\\u3001\",  # Ideographic comma\n",
    "        \"\\uff0e\",  # Fullwidth full stop\n",
    "        \"\\u3002\",  # Ideographic full stop\n",
    "        \"\",\n",
    "    ],\n",
    "    chunk_size=100,\n",
    "    chunk_overlap=20,\n",
    "    length_function=len,\n",
    "    is_separator_regex=False,\n",
    ")"
   ]
  },
  {
   "cell_type": "code",
   "execution_count": 149,
   "id": "166dbe7c-3d79-46e1-90cb-dc162c7e774c",
   "metadata": {
    "tags": []
   },
   "outputs": [],
   "source": [
    "documents = text_splitter.split_documents(file)"
   ]
  },
  {
   "cell_type": "code",
   "execution_count": 151,
   "id": "d11e2abd-c478-4341-9c9d-c357981aa9e7",
   "metadata": {},
   "outputs": [
    {
     "data": {
      "text/plain": [
       "Document(metadata={'line_number': 0, 'source': '/home/user/Documents/10/w11/contract_advisor_rag/data/Raptor Contract.docx'}, page_content='STOCK PURCHASE AGREEMENT')"
      ]
     },
     "execution_count": 151,
     "metadata": {},
     "output_type": "execute_result"
    }
   ],
   "source": [
    "documents[0]"
   ]
  },
  {
   "cell_type": "code",
   "execution_count": null,
   "id": "797b5271-3e0e-41c1-8707-cb9d5f495005",
   "metadata": {
    "tags": []
   },
   "outputs": [],
   "source": [
    "from langchain_openai import OpenAIEmbeddings\n",
    "from langchain_chroma import Chroma\n",
    "import chromadb"
   ]
  },
  {
   "cell_type": "code",
   "execution_count": null,
   "id": "9f02e767-50af-4be8-99b2-43d238e4bb12",
   "metadata": {
    "tags": []
   },
   "outputs": [],
   "source": [
    "from dotenv import load_dotenv\n",
    "load_dotenv()"
   ]
  },
  {
   "cell_type": "code",
   "execution_count": null,
   "id": "28546142-ed98-49ae-b40b-1d44552a40ec",
   "metadata": {
    "tags": []
   },
   "outputs": [],
   "source": [
    "api_key=os.getenv(\"OPENAI_API_KEY\")"
   ]
  },
  {
   "cell_type": "code",
   "execution_count": null,
   "id": "80efa648-7122-46cf-9334-de688fd96177",
   "metadata": {
    "tags": []
   },
   "outputs": [],
   "source": [
    "persist_directory = rpath + \"../../data\"\n",
    "persist_directory"
   ]
  },
  {
   "cell_type": "code",
   "execution_count": null,
   "id": "c245fd19-6456-4acf-9c0e-0a470eacb8fd",
   "metadata": {
    "tags": []
   },
   "outputs": [],
   "source": [
    "from backend.service.chroma_db_manager import ChromaDBManager\n",
    "from backend.service.rag_processor import RAGProcessor"
   ]
  },
  {
   "cell_type": "code",
   "execution_count": null,
   "id": "2e4aef5d-55f5-4932-ad6c-c9a0441d1fa7",
   "metadata": {
    "tags": []
   },
   "outputs": [],
   "source": [
    "os.path.exists(persist_directory)\n",
    "      "
   ]
  },
  {
   "cell_type": "code",
   "execution_count": null,
   "id": "67504f6e-3051-4da7-af92-fc942edad434",
   "metadata": {
    "tags": []
   },
   "outputs": [],
   "source": [
    "from langchain_chroma import Chroma"
   ]
  },
  {
   "cell_type": "code",
   "execution_count": null,
   "id": "1282bfba-2793-428c-9f32-f385be180299",
   "metadata": {
    "tags": []
   },
   "outputs": [],
   "source": [
    "db = Chroma.from_documents(documents, OpenAIEmbeddings(model=\"text-embedding-ada-002\"))"
   ]
  },
  {
   "cell_type": "code",
   "execution_count": null,
   "id": "1352b480-7ffb-411d-a72b-15fffa3ee431",
   "metadata": {
    "tags": []
   },
   "outputs": [],
   "source": [
    "db.similarity_search_with_score(\"Under what circumstances and to what extent the Sellers are responsible for a breach of representations and warranties\")"
   ]
  },
  {
   "cell_type": "code",
   "execution_count": 183,
   "id": "e399d8e4-999b-4efd-8c2d-d997896b8b07",
   "metadata": {
    "tags": []
   },
   "outputs": [],
   "source": [
    "from backend.service.query_analysis import QueryAnalyzer,ParaphrasedQuery"
   ]
  },
  {
   "cell_type": "code",
   "execution_count": 185,
   "id": "755f1945-258c-46a0-8ee9-fb9810f60379",
   "metadata": {
    "tags": []
   },
   "outputs": [
    {
     "data": {
      "text/plain": [
       "[ParaphrasedQuery(paraphrased_query='When are Sellers liable for breaching representations and warranties?'),\n",
       " ParaphrasedQuery(paraphrased_query='What are the conditions under which Sellers are accountable for breaching representations and warranties?'),\n",
       " ParaphrasedQuery(paraphrased_query='In what situations and to what degree are Sellers at fault for breaching representations and warranties?')]"
      ]
     },
     "execution_count": 185,
     "metadata": {},
     "output_type": "execute_result"
    }
   ],
   "source": [
    "# # Usage example:\n",
    "query_analyzer = QueryAnalyzer()\n",
    "result = query_analyzer.analyze_query(\"Under what circumstances and to what extent the Sellers are responsible for a breach of representations and warranties\")\n",
    "result"
   ]
  },
  {
   "cell_type": "code",
   "execution_count": 186,
   "id": "00d0d340-9fce-4e2f-8c32-c0429ea477bb",
   "metadata": {},
   "outputs": [],
   "source": [
    "rag = db.as_retriever(\n",
    "                search_type=\"similarity_score_threshold\", \n",
    "                search_kwargs={\"score_threshold\": 0.5}\n",
    "            )"
   ]
  },
  {
   "cell_type": "code",
   "execution_count": 187,
   "id": "1fccaff9-c91e-426f-a736-fa315576d941",
   "metadata": {
    "tags": []
   },
   "outputs": [],
   "source": [
    "from langchain.prompts import ChatPromptTemplate\n",
    "from langchain_core.runnables import RunnablePassthrough\n",
    "from operator import itemgetter"
   ]
  },
  {
   "cell_type": "code",
   "execution_count": 188,
   "id": "7dc7894b-1207-4416-9268-30f23738c86c",
   "metadata": {
    "tags": []
   },
   "outputs": [],
   "source": [
    "template = \"\"\"\n",
    "           You are an AI assistant specializing in providing detailed and accurate answers based on the provided context documents. \n",
    "Your task is to understand the user's question, retrieve the most relevant information from the context documents, \n",
    "and generate a well-informed and concise response. Use the information from the documents to support your answers.\n",
    "\n",
    "Instructions:\n",
    "1. Always prioritize information from the provided context documents.\n",
    "2. If the context documents do not contain the required information, acknowledge it and provide a general answer based on your training data.\n",
    "3. Ensure your responses are clear, concise, and relevant to the user's question.\n",
    "4. If there are multiple relevant points, structure your response in a logical order. please respond with 'I don't know':\n",
    "            {question}\n",
    "            Context:\n",
    "            {context}\n",
    "            \"\"\"\n",
    "\n",
    "prompt = ChatPromptTemplate.from_messages([(\"human\", template)])"
   ]
  },
  {
   "cell_type": "code",
   "execution_count": 189,
   "id": "941c26ff-0e5f-40ca-ad9c-c8ba6ef60acf",
   "metadata": {
    "tags": []
   },
   "outputs": [],
   "source": [
    "from langchain_openai import ChatOpenAI\n",
    "from langchain.chains.combine_documents import create_stuff_documents_chain\n",
    "from langchain.chains import create_retrieval_chain\n",
    "from langchain import hub\n",
    "\n"
   ]
  },
  {
   "cell_type": "code",
   "execution_count": 190,
   "id": "718cad89-434a-4c1b-a803-63ed67b72e9f",
   "metadata": {
    "tags": []
   },
   "outputs": [],
   "source": [
    "llm = ChatOpenAI(api_key=os.getenv(\"OPENAI_API_KEY\"))"
   ]
  },
  {
   "cell_type": "code",
   "execution_count": 191,
   "id": "f9624d8b-b077-4b25-8613-dda7c53239df",
   "metadata": {
    "tags": []
   },
   "outputs": [],
   "source": [
    "retrieval_qa_chat_prompt = hub.pull(\"langchain-ai/retrieval-qa-chat\")"
   ]
  },
  {
   "cell_type": "code",
   "execution_count": 203,
   "id": "9df67b34-67fe-4789-8ff9-a9c90f6f1ac0",
   "metadata": {
    "tags": []
   },
   "outputs": [],
   "source": [
    "\n",
    "rag_chain = (\n",
    "                {\"context\": itemgetter(\"question\") | rag, \"question\": itemgetter(\"question\") } \n",
    "                | RunnablePassthrough.assign(context=itemgetter(\"context\"))\n",
    "               \n",
    "                | {\"response\": prompt | llm, \"context\": itemgetter(\"context\") }\n",
    "            )"
   ]
  },
  {
   "cell_type": "code",
   "execution_count": null,
   "id": "5e2c81bb-b121-4fd8-b665-8d2679788c4d",
   "metadata": {
    "tags": []
   },
   "outputs": [],
   "source": [
    "rag_chain.invoke({\"question\": 'Under what circumstances and to what extent the Sellers are responsible for a breach of representations and warranties'})"
   ]
  },
  {
   "cell_type": "code",
   "execution_count": 206,
   "id": "f1b00d9a-7689-4890-8c60-facd90122941",
   "metadata": {
    "tags": []
   },
   "outputs": [],
   "source": [
    "from langchain.retrievers.multi_query import MultiQueryRetriever\n",
    "from langchain_openai import ChatOpenAI\n",
    "\n",
    "question = \"What are the approaches to Task Decomposition?\"\n",
    "llm = ChatOpenAI(temperature=0)\n",
    "retriever_from_llm = MultiQueryRetriever.from_llm(\n",
    "    retriever=rag, llm=llm\n",
    ")\n",
    "\n",
    "from langchain.output_parsers import PydanticToolsParser\n",
    "llm_with_tools = llm.bind_tools([ParaphrasedQuery])\n",
    "rag_chain2 = (\n",
    "                {\"context\": itemgetter(\"question\") | retriever_from_llm, \"question\": itemgetter(\"question\")}\n",
    "                | RunnablePassthrough.assign(context=itemgetter(\"context\"))\n",
    "               \n",
    "                | {\"response\": prompt | llm, \"context\": itemgetter(\"context\") }\n",
    "            )"
   ]
  },
  {
   "cell_type": "code",
   "execution_count": null,
   "id": "f8785b6e-c05f-43a3-b071-f6f6762e7e61",
   "metadata": {
    "tags": []
   },
   "outputs": [],
   "source": [
    "rag_chain.invoke({\"question\": 'Under what circumstances and to what extent the Sellers are responsible for a breach of representations and warranties'})"
   ]
  },
  {
   "cell_type": "code",
   "execution_count": null,
   "id": "cd0f7c6f-148a-4ec4-8a7f-e485b1b5f56f",
   "metadata": {
    "tags": []
   },
   "outputs": [],
   "source": [
    "COHERE_API_KEY=\"Jh5hTotk0AJ6KcKka3NUCLZfmuRmXF2y3LvjN9ZI\""
   ]
  },
  {
   "cell_type": "code",
   "execution_count": null,
   "id": "feb6b99d-f53d-454a-9cc6-4d61d8bafdb1",
   "metadata": {
    "tags": []
   },
   "outputs": [],
   "source": [
    "from langchain.retrievers import ContextualCompressionRetriever, CohereRagRetriever\n",
    "from langchain.retrievers.document_compressors import CohereRerank\n",
    "\n",
    "from langchain_cohere import CohereEmbeddings\n",
    "from langchain_community.chat_models import ChatCohere\n",
    "from langchain.text_splitter import CharacterTextSplitter\n",
    "from langchain_community.document_loaders import TextLoader\n",
    "from langchain_community.vectorstores import Chroma"
   ]
  },
  {
   "cell_type": "code",
   "execution_count": null,
   "id": "83f147c6-5d04-406e-907e-41314aeaa91b",
   "metadata": {
    "tags": []
   },
   "outputs": [],
   "source": [
    "question = 'Under what circumstances and to what extent the Sellers are responsible for a breach of representations and warranties'\n"
   ]
  },
  {
   "cell_type": "code",
   "execution_count": null,
   "id": "48ca5963-9188-4588-986e-76eb7c647f5c",
   "metadata": {
    "tags": []
   },
   "outputs": [],
   "source": [
    "cohere_chat_model = ChatCohere(cohere_api_key=COHERE_API_KEY)\n",
    "cohere_embeddings = CohereEmbeddings(cohere_api_key=COHERE_API_KEY)"
   ]
  },
  {
   "cell_type": "code",
   "execution_count": 97,
   "id": "e01e910b-5948-4443-91e3-f6ec79a5558e",
   "metadata": {
    "tags": []
   },
   "outputs": [
    {
     "name": "stderr",
     "output_type": "stream",
     "text": [
      "Retrying langchain_community.embeddings.cohere.CohereEmbeddings.embed_with_retry.<locals>._embed_with_retry in 4.0 seconds as it raised IndexError: list index out of range.\n"
     ]
    },
    {
     "ename": "KeyboardInterrupt",
     "evalue": "",
     "output_type": "error",
     "traceback": [
      "\u001b[0;31m---------------------------------------------------------------------------\u001b[0m",
      "\u001b[0;31mKeyboardInterrupt\u001b[0m                         Traceback (most recent call last)",
      "Cell \u001b[0;32mIn[97], line 4\u001b[0m\n\u001b[1;32m      2\u001b[0m text_splitter \u001b[38;5;241m=\u001b[39m RecursiveCharacterTextSplitter(chunk_size\u001b[38;5;241m=\u001b[39m\u001b[38;5;241m10\u001b[39m, chunk_overlap\u001b[38;5;241m=\u001b[39m\u001b[38;5;241m10\u001b[39m)\n\u001b[1;32m      3\u001b[0m texts \u001b[38;5;241m=\u001b[39m text_splitter\u001b[38;5;241m.\u001b[39msplit_documents(documents)\n\u001b[0;32m----> 4\u001b[0m retriever \u001b[38;5;241m=\u001b[39m FAISS\u001b[38;5;241m.\u001b[39mfrom_documents(texts, CohereEmbeddings())\u001b[38;5;241m.\u001b[39mas_retriever(\n\u001b[1;32m      5\u001b[0m     search_kwargs\u001b[38;5;241m=\u001b[39m{\u001b[38;5;124m\"\u001b[39m\u001b[38;5;124mk\u001b[39m\u001b[38;5;124m\"\u001b[39m: \u001b[38;5;241m20\u001b[39m}\n\u001b[1;32m      6\u001b[0m )\n\u001b[1;32m      9\u001b[0m docs \u001b[38;5;241m=\u001b[39m retriever\u001b[38;5;241m.\u001b[39minvoke(question)\n\u001b[1;32m     10\u001b[0m pretty_print_docs(docs)\n",
      "File \u001b[0;32m~/anaconda3/lib/python3.11/site-packages/langchain_core/vectorstores/base.py:989\u001b[0m, in \u001b[0;36mVectorStore.from_documents\u001b[0;34m(cls, documents, embedding, **kwargs)\u001b[0m\n\u001b[1;32m    987\u001b[0m texts \u001b[38;5;241m=\u001b[39m [d\u001b[38;5;241m.\u001b[39mpage_content \u001b[38;5;28;01mfor\u001b[39;00m d \u001b[38;5;129;01min\u001b[39;00m documents]\n\u001b[1;32m    988\u001b[0m metadatas \u001b[38;5;241m=\u001b[39m [d\u001b[38;5;241m.\u001b[39mmetadata \u001b[38;5;28;01mfor\u001b[39;00m d \u001b[38;5;129;01min\u001b[39;00m documents]\n\u001b[0;32m--> 989\u001b[0m \u001b[38;5;28;01mreturn\u001b[39;00m \u001b[38;5;28mcls\u001b[39m\u001b[38;5;241m.\u001b[39mfrom_texts(texts, embedding, metadatas\u001b[38;5;241m=\u001b[39mmetadatas, \u001b[38;5;241m*\u001b[39m\u001b[38;5;241m*\u001b[39mkwargs)\n",
      "File \u001b[0;32m~/anaconda3/lib/python3.11/site-packages/langchain_community/vectorstores/faiss.py:930\u001b[0m, in \u001b[0;36mFAISS.from_texts\u001b[0;34m(cls, texts, embedding, metadatas, ids, **kwargs)\u001b[0m\n\u001b[1;32m    903\u001b[0m \u001b[38;5;129m@classmethod\u001b[39m\n\u001b[1;32m    904\u001b[0m \u001b[38;5;28;01mdef\u001b[39;00m \u001b[38;5;21mfrom_texts\u001b[39m(\n\u001b[1;32m    905\u001b[0m     \u001b[38;5;28mcls\u001b[39m,\n\u001b[0;32m   (...)\u001b[0m\n\u001b[1;32m    910\u001b[0m     \u001b[38;5;241m*\u001b[39m\u001b[38;5;241m*\u001b[39mkwargs: Any,\n\u001b[1;32m    911\u001b[0m ) \u001b[38;5;241m-\u001b[39m\u001b[38;5;241m>\u001b[39m FAISS:\n\u001b[1;32m    912\u001b[0m \u001b[38;5;250m    \u001b[39m\u001b[38;5;124;03m\"\"\"Construct FAISS wrapper from raw documents.\u001b[39;00m\n\u001b[1;32m    913\u001b[0m \n\u001b[1;32m    914\u001b[0m \u001b[38;5;124;03m    This is a user friendly interface that:\u001b[39;00m\n\u001b[0;32m   (...)\u001b[0m\n\u001b[1;32m    928\u001b[0m \u001b[38;5;124;03m            faiss = FAISS.from_texts(texts, embeddings)\u001b[39;00m\n\u001b[1;32m    929\u001b[0m \u001b[38;5;124;03m    \"\"\"\u001b[39;00m\n\u001b[0;32m--> 930\u001b[0m     embeddings \u001b[38;5;241m=\u001b[39m embedding\u001b[38;5;241m.\u001b[39membed_documents(texts)\n\u001b[1;32m    931\u001b[0m     \u001b[38;5;28;01mreturn\u001b[39;00m \u001b[38;5;28mcls\u001b[39m\u001b[38;5;241m.\u001b[39m__from(\n\u001b[1;32m    932\u001b[0m         texts,\n\u001b[1;32m    933\u001b[0m         embeddings,\n\u001b[0;32m   (...)\u001b[0m\n\u001b[1;32m    937\u001b[0m         \u001b[38;5;241m*\u001b[39m\u001b[38;5;241m*\u001b[39mkwargs,\n\u001b[1;32m    938\u001b[0m     )\n",
      "File \u001b[0;32m~/anaconda3/lib/python3.11/site-packages/langchain_community/embeddings/cohere.py:139\u001b[0m, in \u001b[0;36mCohereEmbeddings.embed_documents\u001b[0;34m(self, texts)\u001b[0m\n\u001b[1;32m    130\u001b[0m \u001b[38;5;28;01mdef\u001b[39;00m \u001b[38;5;21membed_documents\u001b[39m(\u001b[38;5;28mself\u001b[39m, texts: List[\u001b[38;5;28mstr\u001b[39m]) \u001b[38;5;241m-\u001b[39m\u001b[38;5;241m>\u001b[39m List[List[\u001b[38;5;28mfloat\u001b[39m]]:\n\u001b[1;32m    131\u001b[0m \u001b[38;5;250m    \u001b[39m\u001b[38;5;124;03m\"\"\"Embed a list of document texts.\u001b[39;00m\n\u001b[1;32m    132\u001b[0m \n\u001b[1;32m    133\u001b[0m \u001b[38;5;124;03m    Args:\u001b[39;00m\n\u001b[0;32m   (...)\u001b[0m\n\u001b[1;32m    137\u001b[0m \u001b[38;5;124;03m        List of embeddings, one for each text.\u001b[39;00m\n\u001b[1;32m    138\u001b[0m \u001b[38;5;124;03m    \"\"\"\u001b[39;00m\n\u001b[0;32m--> 139\u001b[0m     \u001b[38;5;28;01mreturn\u001b[39;00m \u001b[38;5;28mself\u001b[39m\u001b[38;5;241m.\u001b[39membed(texts, input_type\u001b[38;5;241m=\u001b[39m\u001b[38;5;124m\"\u001b[39m\u001b[38;5;124msearch_document\u001b[39m\u001b[38;5;124m\"\u001b[39m)\n",
      "File \u001b[0;32m~/anaconda3/lib/python3.11/site-packages/langchain_community/embeddings/cohere.py:109\u001b[0m, in \u001b[0;36mCohereEmbeddings.embed\u001b[0;34m(self, texts, input_type)\u001b[0m\n\u001b[1;32m    106\u001b[0m \u001b[38;5;28;01mdef\u001b[39;00m \u001b[38;5;21membed\u001b[39m(\n\u001b[1;32m    107\u001b[0m     \u001b[38;5;28mself\u001b[39m, texts: List[\u001b[38;5;28mstr\u001b[39m], \u001b[38;5;241m*\u001b[39m, input_type: Optional[\u001b[38;5;28mstr\u001b[39m] \u001b[38;5;241m=\u001b[39m \u001b[38;5;28;01mNone\u001b[39;00m\n\u001b[1;32m    108\u001b[0m ) \u001b[38;5;241m-\u001b[39m\u001b[38;5;241m>\u001b[39m List[List[\u001b[38;5;28mfloat\u001b[39m]]:\n\u001b[0;32m--> 109\u001b[0m     embeddings \u001b[38;5;241m=\u001b[39m \u001b[38;5;28mself\u001b[39m\u001b[38;5;241m.\u001b[39membed_with_retry(\n\u001b[1;32m    110\u001b[0m         model\u001b[38;5;241m=\u001b[39m\u001b[38;5;28mself\u001b[39m\u001b[38;5;241m.\u001b[39mmodel,\n\u001b[1;32m    111\u001b[0m         texts\u001b[38;5;241m=\u001b[39mtexts,\n\u001b[1;32m    112\u001b[0m         input_type\u001b[38;5;241m=\u001b[39minput_type,\n\u001b[1;32m    113\u001b[0m         truncate\u001b[38;5;241m=\u001b[39m\u001b[38;5;28mself\u001b[39m\u001b[38;5;241m.\u001b[39mtruncate,\n\u001b[1;32m    114\u001b[0m     )\u001b[38;5;241m.\u001b[39membeddings\n\u001b[1;32m    115\u001b[0m     \u001b[38;5;28;01mreturn\u001b[39;00m [\u001b[38;5;28mlist\u001b[39m(\u001b[38;5;28mmap\u001b[39m(\u001b[38;5;28mfloat\u001b[39m, e)) \u001b[38;5;28;01mfor\u001b[39;00m e \u001b[38;5;129;01min\u001b[39;00m embeddings]\n",
      "File \u001b[0;32m~/anaconda3/lib/python3.11/site-packages/langchain_community/embeddings/cohere.py:94\u001b[0m, in \u001b[0;36mCohereEmbeddings.embed_with_retry\u001b[0;34m(self, **kwargs)\u001b[0m\n\u001b[1;32m     90\u001b[0m \u001b[38;5;129m@retry_decorator\u001b[39m\n\u001b[1;32m     91\u001b[0m \u001b[38;5;28;01mdef\u001b[39;00m \u001b[38;5;21m_embed_with_retry\u001b[39m(\u001b[38;5;241m*\u001b[39m\u001b[38;5;241m*\u001b[39mkwargs: Any) \u001b[38;5;241m-\u001b[39m\u001b[38;5;241m>\u001b[39m Any:\n\u001b[1;32m     92\u001b[0m     \u001b[38;5;28;01mreturn\u001b[39;00m \u001b[38;5;28mself\u001b[39m\u001b[38;5;241m.\u001b[39mclient\u001b[38;5;241m.\u001b[39membed(\u001b[38;5;241m*\u001b[39m\u001b[38;5;241m*\u001b[39mkwargs)\n\u001b[0;32m---> 94\u001b[0m \u001b[38;5;28;01mreturn\u001b[39;00m _embed_with_retry(\u001b[38;5;241m*\u001b[39m\u001b[38;5;241m*\u001b[39mkwargs)\n",
      "File \u001b[0;32m~/anaconda3/lib/python3.11/site-packages/tenacity/__init__.py:330\u001b[0m, in \u001b[0;36mBaseRetrying.wraps.<locals>.wrapped_f\u001b[0;34m(*args, **kw)\u001b[0m\n\u001b[1;32m    326\u001b[0m \u001b[38;5;129m@functools\u001b[39m\u001b[38;5;241m.\u001b[39mwraps(\n\u001b[1;32m    327\u001b[0m     f, functools\u001b[38;5;241m.\u001b[39mWRAPPER_ASSIGNMENTS \u001b[38;5;241m+\u001b[39m (\u001b[38;5;124m\"\u001b[39m\u001b[38;5;124m__defaults__\u001b[39m\u001b[38;5;124m\"\u001b[39m, \u001b[38;5;124m\"\u001b[39m\u001b[38;5;124m__kwdefaults__\u001b[39m\u001b[38;5;124m\"\u001b[39m)\n\u001b[1;32m    328\u001b[0m )\n\u001b[1;32m    329\u001b[0m \u001b[38;5;28;01mdef\u001b[39;00m \u001b[38;5;21mwrapped_f\u001b[39m(\u001b[38;5;241m*\u001b[39margs: t\u001b[38;5;241m.\u001b[39mAny, \u001b[38;5;241m*\u001b[39m\u001b[38;5;241m*\u001b[39mkw: t\u001b[38;5;241m.\u001b[39mAny) \u001b[38;5;241m-\u001b[39m\u001b[38;5;241m>\u001b[39m t\u001b[38;5;241m.\u001b[39mAny:\n\u001b[0;32m--> 330\u001b[0m     \u001b[38;5;28;01mreturn\u001b[39;00m \u001b[38;5;28mself\u001b[39m(f, \u001b[38;5;241m*\u001b[39margs, \u001b[38;5;241m*\u001b[39m\u001b[38;5;241m*\u001b[39mkw)\n",
      "File \u001b[0;32m~/anaconda3/lib/python3.11/site-packages/tenacity/__init__.py:477\u001b[0m, in \u001b[0;36mRetrying.__call__\u001b[0;34m(self, fn, *args, **kwargs)\u001b[0m\n\u001b[1;32m    475\u001b[0m \u001b[38;5;28;01melif\u001b[39;00m \u001b[38;5;28misinstance\u001b[39m(do, DoSleep):\n\u001b[1;32m    476\u001b[0m     retry_state\u001b[38;5;241m.\u001b[39mprepare_for_next_attempt()\n\u001b[0;32m--> 477\u001b[0m     \u001b[38;5;28mself\u001b[39m\u001b[38;5;241m.\u001b[39msleep(do)\n\u001b[1;32m    478\u001b[0m \u001b[38;5;28;01melse\u001b[39;00m:\n\u001b[1;32m    479\u001b[0m     \u001b[38;5;28;01mreturn\u001b[39;00m do\n",
      "File \u001b[0;32m~/anaconda3/lib/python3.11/site-packages/tenacity/nap.py:31\u001b[0m, in \u001b[0;36msleep\u001b[0;34m(seconds)\u001b[0m\n\u001b[1;32m     25\u001b[0m \u001b[38;5;28;01mdef\u001b[39;00m \u001b[38;5;21msleep\u001b[39m(seconds: \u001b[38;5;28mfloat\u001b[39m) \u001b[38;5;241m-\u001b[39m\u001b[38;5;241m>\u001b[39m \u001b[38;5;28;01mNone\u001b[39;00m:\n\u001b[1;32m     26\u001b[0m \u001b[38;5;250m    \u001b[39m\u001b[38;5;124;03m\"\"\"\u001b[39;00m\n\u001b[1;32m     27\u001b[0m \u001b[38;5;124;03m    Sleep strategy that delays execution for a given number of seconds.\u001b[39;00m\n\u001b[1;32m     28\u001b[0m \n\u001b[1;32m     29\u001b[0m \u001b[38;5;124;03m    This is the default strategy, and may be mocked out for unit testing.\u001b[39;00m\n\u001b[1;32m     30\u001b[0m \u001b[38;5;124;03m    \"\"\"\u001b[39;00m\n\u001b[0;32m---> 31\u001b[0m     time\u001b[38;5;241m.\u001b[39msleep(seconds)\n",
      "\u001b[0;31mKeyboardInterrupt\u001b[0m: "
     ]
    }
   ],
   "source": [
    "from langchain_community.vectorstores import FAISS\n",
    "text_splitter = RecursiveCharacterTextSplitter(chunk_size=10, chunk_overlap=10)\n",
    "texts = text_splitter.split_documents(documents)\n",
    "retriever = FAISS.from_documents(texts, CohereEmbeddings()).as_retriever(\n",
    "    search_kwargs={\"k\": 20}\n",
    ")\n",
    "\n",
    "\n",
    "docs = retriever.invoke(question)\n",
    "pretty_print_docs(docs)"
   ]
  },
  {
   "cell_type": "code",
   "execution_count": null,
   "id": "598888a3-23a1-401a-b646-1fb73499b147",
   "metadata": {
    "tags": []
   },
   "outputs": [],
   "source": [
    "cohere_rerank = CohereRerank(cohere_api_key=COHERE_API_KEY)\n",
    "compression_retriever = ContextualCompressionRetriever(\n",
    "    base_compressor=cohere_rerank, \n",
    "    base_retriever=rag\n",
    ")"
   ]
  },
  {
   "cell_type": "code",
   "execution_count": null,
   "id": "2295dcb6-9c05-40bf-a58a-dc6836168aac",
   "metadata": {
    "tags": []
   },
   "outputs": [],
   "source": [
    "from langchain.retrievers.contextual_compression import ContextualCompressionRetriever\n",
    "from langchain_cohere import CohereRerank\n",
    "from langchain_community.llms import Cohere\n",
    "\n",
    "llm = Cohere(temperature=0)\n",
    "compressor = CohereRerank()\n",
    "compression_retriever = ContextualCompressionRetriever(\n",
    "    base_compressor=compressor, base_retriever=rag\n",
    ")\n"
   ]
  },
  {
   "cell_type": "code",
   "execution_count": null,
   "id": "29fadc93-4df5-439a-90ae-aca30235d1af",
   "metadata": {
    "tags": []
   },
   "outputs": [],
   "source": [
    "from langchain.chains import RetrievalQA\n",
    "\n",
    "chain = RetrievalQA.from_chain_type(\n",
    "    llm=Cohere(temperature=0), retriever=compression_retriever\n",
    ")\n",
    "\n",
    "chain({\"query\": question})"
   ]
  },
  {
   "cell_type": "code",
   "execution_count": null,
   "id": "2e6fbdb3-182d-4638-ae3d-e06cc616274a",
   "metadata": {
    "tags": []
   },
   "outputs": [],
   "source": [
    "compressed_docs = compression_retriever.invoke(question)\n",
    "pretty_print_docs(compressed_docs)"
   ]
  },
  {
   "cell_type": "code",
   "execution_count": null,
   "id": "ffa65f7e-194e-47fe-9af3-3fb7eed4dcad",
   "metadata": {
    "tags": []
   },
   "outputs": [],
   "source": [
    "compressed_docs = compression_retriever.get_relevant_documents(question)\n",
    "# Print the relevant documents from using the embeddings and reranker\n",
    "print(compressed_docs)"
   ]
  },
  {
   "cell_type": "code",
   "execution_count": null,
   "id": "c7976b84-aa06-4135-83e7-bd3fbbd195fd",
   "metadata": {
    "tags": []
   },
   "outputs": [],
   "source": [
    "\n",
    "compressor = CohereRerank()\n",
    "compression_retriever = ContextualCompressionRetriever(\n",
    "    base_compressor=compressor, base_retriever=rag\n",
    ")\n",
    "\n",
    "compressed_docs = compression_retriever.invoke(question)\n"
   ]
  },
  {
   "cell_type": "code",
   "execution_count": 153,
   "id": "ded3e821-f36a-47a4-9a9b-92a829f8f603",
   "metadata": {},
   "outputs": [
    {
     "data": {
      "text/plain": [
       "Document(metadata={'line_number': 0, 'source': '/home/user/Documents/10/w11/contract_advisor_rag/data/Raptor Contract.docx'}, page_content='STOCK PURCHASE AGREEMENT')"
      ]
     },
     "execution_count": 153,
     "metadata": {},
     "output_type": "execute_result"
    }
   ],
   "source": [
    "documents[0]"
   ]
  },
  {
   "cell_type": "code",
   "execution_count": 163,
   "id": "10b813e5-45b7-48be-854a-1deb6d94756f",
   "metadata": {
    "tags": []
   },
   "outputs": [],
   "source": [
    "for document in documents:\n",
    "    \n",
    "    document.metadata['filename'] = document.metadata['source']\n",
    "   "
   ]
  },
  {
   "cell_type": "markdown",
   "id": "e89c18b7-9ae9-487c-b0f2-e23b1ac08bd0",
   "metadata": {},
   "source": [
    "#RAGAS"
   ]
  },
  {
   "cell_type": "code",
   "execution_count": 165,
   "id": "bf96bd46-24c0-443b-84ec-763ae038205c",
   "metadata": {
    "tags": []
   },
   "outputs": [
    {
     "data": {
      "application/vnd.jupyter.widget-view+json": {
       "model_id": "",
       "version_major": 2,
       "version_minor": 0
      },
      "text/plain": [
       "embedding nodes:   0%|          | 0/1178 [00:00<?, ?it/s]"
      ]
     },
     "metadata": {},
     "output_type": "display_data"
    },
    {
     "data": {
      "application/vnd.jupyter.widget-view+json": {
       "model_id": "e2815acde23e4616a9493aef7aac210a",
       "version_major": 2,
       "version_minor": 0
      },
      "text/plain": [
       "Generating:   0%|          | 0/12 [00:00<?, ?it/s]"
      ]
     },
     "metadata": {},
     "output_type": "display_data"
    }
   ],
   "source": [
    "from ragas.testset.generator import TestsetGenerator\n",
    "from ragas.testset.evolutions import simple, reasoning, multi_context\n",
    "from langchain_openai import ChatOpenAI, OpenAIEmbeddings\n",
    "\n",
    "# generator with openai models\n",
    "generator_llm = ChatOpenAI(model=\"gpt-3.5-turbo-16k\")\n",
    "critic_llm = ChatOpenAI(model=\"gpt-4\")\n",
    "embeddings = OpenAIEmbeddings()\n",
    "\n",
    "generator = TestsetGenerator.from_langchain(\n",
    "    generator_llm,\n",
    "    critic_llm,\n",
    "    embeddings\n",
    ")\n",
    "\n",
    "# generate testset\n",
    "testset = generator.generate_with_langchain_docs(documents, test_size=12, distributions={simple: 0.5, reasoning: 0.25, multi_context: 0.25})"
   ]
  },
  {
   "cell_type": "code",
   "execution_count": 167,
   "id": "7ea7b610-a566-44ab-9d69-1b40bf77624f",
   "metadata": {
    "tags": []
   },
   "outputs": [],
   "source": [
    "test_df = testset.to_pandas()"
   ]
  },
  {
   "cell_type": "code",
   "execution_count": 169,
   "id": "fb580e92-16c6-4029-b8ab-b3eaee7658e6",
   "metadata": {
    "tags": []
   },
   "outputs": [
    {
     "data": {
      "text/html": [
       "<div>\n",
       "<style scoped>\n",
       "    .dataframe tbody tr th:only-of-type {\n",
       "        vertical-align: middle;\n",
       "    }\n",
       "\n",
       "    .dataframe tbody tr th {\n",
       "        vertical-align: top;\n",
       "    }\n",
       "\n",
       "    .dataframe thead th {\n",
       "        text-align: right;\n",
       "    }\n",
       "</style>\n",
       "<table border=\"1\" class=\"dataframe\">\n",
       "  <thead>\n",
       "    <tr style=\"text-align: right;\">\n",
       "      <th></th>\n",
       "      <th>question</th>\n",
       "      <th>contexts</th>\n",
       "      <th>ground_truth</th>\n",
       "      <th>evolution_type</th>\n",
       "      <th>metadata</th>\n",
       "      <th>episode_done</th>\n",
       "    </tr>\n",
       "  </thead>\n",
       "  <tbody>\n",
       "    <tr>\n",
       "      <th>0</th>\n",
       "      <td>Who determines the tax withholding for payment...</td>\n",
       "      <td>[by the Company at the time of payment, will b...</td>\n",
       "      <td>Buyer or the Paying Agent determines the tax w...</td>\n",
       "      <td>simple</td>\n",
       "      <td>[{'line_number': 240, 'source': '/home/user/Do...</td>\n",
       "      <td>True</td>\n",
       "    </tr>\n",
       "    <tr>\n",
       "      <th>1</th>\n",
       "      <td>What types of transactions fall under the cont...</td>\n",
       "      <td>[any Contractual Obligation relating to the ac...</td>\n",
       "      <td>The contractual obligations of an Acquired Com...</td>\n",
       "      <td>simple</td>\n",
       "      <td>[{'line_number': 365, 'source': '/home/user/Do...</td>\n",
       "      <td>True</td>\n",
       "    </tr>\n",
       "    <tr>\n",
       "      <th>2</th>\n",
       "      <td>What requirements must a Seller that is not an...</td>\n",
       "      <td>[Organization.  In the case of each Seller tha...</td>\n",
       "      <td>A Seller that is not an individual must be dul...</td>\n",
       "      <td>simple</td>\n",
       "      <td>[{'line_number': 407, 'source': '/home/user/Do...</td>\n",
       "      <td>True</td>\n",
       "    </tr>\n",
       "    <tr>\n",
       "      <th>3</th>\n",
       "      <td>Are there any pending or threatened condemnati...</td>\n",
       "      <td>[No eminent domain or condemnation Action is p...</td>\n",
       "      <td>No eminent domain or condemnation Action is pe...</td>\n",
       "      <td>simple</td>\n",
       "      <td>[{'line_number': 296, 'source': '/home/user/Do...</td>\n",
       "      <td>True</td>\n",
       "    </tr>\n",
       "    <tr>\n",
       "      <th>4</th>\n",
       "      <td>What items will the Sellers' Representative de...</td>\n",
       "      <td>[to the Sellers’ Representative, a copy of the...</td>\n",
       "      <td>nan</td>\n",
       "      <td>simple</td>\n",
       "      <td>[{'line_number': 209, 'source': '/home/user/Do...</td>\n",
       "      <td>True</td>\n",
       "    </tr>\n",
       "    <tr>\n",
       "      <th>5</th>\n",
       "      <td>What payments become due upon termination of e...</td>\n",
       "      <td>[notice, subject to the applicable Legal Requi...</td>\n",
       "      <td>No severance or other payments will become due...</td>\n",
       "      <td>simple</td>\n",
       "      <td>[{'line_number': 394, 'source': '/home/user/Do...</td>\n",
       "      <td>True</td>\n",
       "    </tr>\n",
       "    <tr>\n",
       "      <th>6</th>\n",
       "      <td>Who determines tax withholding if no declarati...</td>\n",
       "      <td>[by the Company at the time of payment, will b...</td>\n",
       "      <td>Buyer or the Paying Agent determines tax withh...</td>\n",
       "      <td>reasoning</td>\n",
       "      <td>[{'line_number': 240, 'source': '/home/user/Do...</td>\n",
       "      <td>True</td>\n",
       "    </tr>\n",
       "    <tr>\n",
       "      <th>7</th>\n",
       "      <td>What are the acceptable methods for service of...</td>\n",
       "      <td>[Service of Process.  Each party hereby (i) co...</td>\n",
       "      <td>The acceptable methods for service of process ...</td>\n",
       "      <td>reasoning</td>\n",
       "      <td>[{'line_number': 497, 'source': '/home/user/Do...</td>\n",
       "      <td>True</td>\n",
       "    </tr>\n",
       "    <tr>\n",
       "      <th>8</th>\n",
       "      <td>Are there any ongoing obligations related to E...</td>\n",
       "      <td>[no Acquired Company has any ongoing obligatio...</td>\n",
       "      <td>No, there are no ongoing obligations related t...</td>\n",
       "      <td>reasoning</td>\n",
       "      <td>[{'line_number': 357, 'source': '/home/user/Do...</td>\n",
       "      <td>True</td>\n",
       "    </tr>\n",
       "    <tr>\n",
       "      <th>9</th>\n",
       "      <td>What types of transactions are considered cont...</td>\n",
       "      <td>[any Contractual Obligation relating to the ac...</td>\n",
       "      <td>Contractual obligations relating to the acquis...</td>\n",
       "      <td>multi_context</td>\n",
       "      <td>[{'line_number': 365, 'source': '/home/user/Do...</td>\n",
       "      <td>True</td>\n",
       "    </tr>\n",
       "    <tr>\n",
       "      <th>10</th>\n",
       "      <td>How do contractual obligations affect severanc...</td>\n",
       "      <td>[and (vii) none of the employees of an Acquire...</td>\n",
       "      <td>Upon termination of the employment or engageme...</td>\n",
       "      <td>multi_context</td>\n",
       "      <td>[{'line_number': 394, 'source': '/home/user/Do...</td>\n",
       "      <td>True</td>\n",
       "    </tr>\n",
       "    <tr>\n",
       "      <th>11</th>\n",
       "      <td>What is the significance of the Buyer's consen...</td>\n",
       "      <td>[Confidentiality of the Sellers. Each Seller a...</td>\n",
       "      <td>The Buyer's consent is required for the disclo...</td>\n",
       "      <td>multi_context</td>\n",
       "      <td>[{'line_number': 430, 'source': '/home/user/Do...</td>\n",
       "      <td>True</td>\n",
       "    </tr>\n",
       "  </tbody>\n",
       "</table>\n",
       "</div>"
      ],
      "text/plain": [
       "                                             question  \\\n",
       "0   Who determines the tax withholding for payment...   \n",
       "1   What types of transactions fall under the cont...   \n",
       "2   What requirements must a Seller that is not an...   \n",
       "3   Are there any pending or threatened condemnati...   \n",
       "4   What items will the Sellers' Representative de...   \n",
       "5   What payments become due upon termination of e...   \n",
       "6   Who determines tax withholding if no declarati...   \n",
       "7   What are the acceptable methods for service of...   \n",
       "8   Are there any ongoing obligations related to E...   \n",
       "9   What types of transactions are considered cont...   \n",
       "10  How do contractual obligations affect severanc...   \n",
       "11  What is the significance of the Buyer's consen...   \n",
       "\n",
       "                                             contexts  \\\n",
       "0   [by the Company at the time of payment, will b...   \n",
       "1   [any Contractual Obligation relating to the ac...   \n",
       "2   [Organization.  In the case of each Seller tha...   \n",
       "3   [No eminent domain or condemnation Action is p...   \n",
       "4   [to the Sellers’ Representative, a copy of the...   \n",
       "5   [notice, subject to the applicable Legal Requi...   \n",
       "6   [by the Company at the time of payment, will b...   \n",
       "7   [Service of Process.  Each party hereby (i) co...   \n",
       "8   [no Acquired Company has any ongoing obligatio...   \n",
       "9   [any Contractual Obligation relating to the ac...   \n",
       "10  [and (vii) none of the employees of an Acquire...   \n",
       "11  [Confidentiality of the Sellers. Each Seller a...   \n",
       "\n",
       "                                         ground_truth evolution_type  \\\n",
       "0   Buyer or the Paying Agent determines the tax w...         simple   \n",
       "1   The contractual obligations of an Acquired Com...         simple   \n",
       "2   A Seller that is not an individual must be dul...         simple   \n",
       "3   No eminent domain or condemnation Action is pe...         simple   \n",
       "4                                                 nan         simple   \n",
       "5   No severance or other payments will become due...         simple   \n",
       "6   Buyer or the Paying Agent determines tax withh...      reasoning   \n",
       "7   The acceptable methods for service of process ...      reasoning   \n",
       "8   No, there are no ongoing obligations related t...      reasoning   \n",
       "9   Contractual obligations relating to the acquis...  multi_context   \n",
       "10  Upon termination of the employment or engageme...  multi_context   \n",
       "11  The Buyer's consent is required for the disclo...  multi_context   \n",
       "\n",
       "                                             metadata  episode_done  \n",
       "0   [{'line_number': 240, 'source': '/home/user/Do...          True  \n",
       "1   [{'line_number': 365, 'source': '/home/user/Do...          True  \n",
       "2   [{'line_number': 407, 'source': '/home/user/Do...          True  \n",
       "3   [{'line_number': 296, 'source': '/home/user/Do...          True  \n",
       "4   [{'line_number': 209, 'source': '/home/user/Do...          True  \n",
       "5   [{'line_number': 394, 'source': '/home/user/Do...          True  \n",
       "6   [{'line_number': 240, 'source': '/home/user/Do...          True  \n",
       "7   [{'line_number': 497, 'source': '/home/user/Do...          True  \n",
       "8   [{'line_number': 357, 'source': '/home/user/Do...          True  \n",
       "9   [{'line_number': 365, 'source': '/home/user/Do...          True  \n",
       "10  [{'line_number': 394, 'source': '/home/user/Do...          True  \n",
       "11  [{'line_number': 430, 'source': '/home/user/Do...          True  "
      ]
     },
     "execution_count": 169,
     "metadata": {},
     "output_type": "execute_result"
    }
   ],
   "source": [
    "test_df"
   ]
  },
  {
   "cell_type": "code",
   "execution_count": null,
   "id": "5d84cc9a-cf4c-40ab-b3cd-f8412635fcfe",
   "metadata": {
    "tags": []
   },
   "outputs": [],
   "source": [
    "from ragas.testset.generator import TestsetGenerator\n",
    "from ragas.testset.evolutions import simple, reasoning, multi_context\n",
    "\n",
    "generator = TestsetGenerator.with_openai()\n",
    "\n",
    "testset = generator.generate_with_langchain_docs(documents, test_size=10, distributions={simple: 0.5, reasoning: 0.25, multi_context: 0.25})"
   ]
  },
  {
   "cell_type": "code",
   "execution_count": 171,
   "id": "0d5ceef3-bfda-4c8c-be19-cce457341da4",
   "metadata": {
    "tags": []
   },
   "outputs": [],
   "source": [
    "test_questions = test_df[\"question\"].values.tolist()\n",
    "test_groundtruths = test_df[\"ground_truth\"].values.tolist()"
   ]
  },
  {
   "cell_type": "code",
   "execution_count": 208,
   "id": "e4a13d3f-5fc7-4c3e-9db5-35f22fdef84d",
   "metadata": {
    "tags": []
   },
   "outputs": [],
   "source": [
    "answers = []\n",
    "contexts = []\n",
    "\n",
    "for question in test_questions:\n",
    "  response = rag_chain.invoke({\"question\" : question})\n",
    "  answers.append(response[\"response\"].content)\n",
    "  contexts.append([context.page_content for context in response[\"context\"]])"
   ]
  },
  {
   "cell_type": "code",
   "execution_count": 209,
   "id": "04ae8659-9bac-4004-a9a2-59fae62ec32e",
   "metadata": {
    "tags": []
   },
   "outputs": [],
   "source": [
    "from datasets import Dataset\n",
    "\n",
    "response_dataset = Dataset.from_dict({\n",
    "    \"question\" : test_questions,\n",
    "    \"answer\" : answers,\n",
    "    \"contexts\" : contexts,\n",
    "    \"ground_truth\" : test_groundtruths\n",
    "})"
   ]
  },
  {
   "cell_type": "code",
   "execution_count": 212,
   "id": "b4e877e1-cdc8-4c53-9c0d-0412353b565e",
   "metadata": {
    "tags": []
   },
   "outputs": [
    {
     "data": {
      "text/plain": [
       "{'question': 'Who determines the tax withholding for payments made by the Buyer or the Paying Agent?',\n",
       " 'answer': 'The tax withholding for payments made by the Buyer or the Paying Agent is determined by the Buyer or the Paying Agent themselves. They will reasonably determine the tax withholding according to the applicable withholding rate. It is essential for the Payee to provide a Valid Certificate at least three Business Days prior to the Withholding Drop Date to ensure proper withholding.',\n",
       " 'contexts': ['will be subject to tax withholding as will be reasonably determined by Buyer or the Paying Agent.',\n",
       "  'according to the applicable withholding rate as reasonably determined by Buyer and the Paying',\n",
       "  'or the Paying Agent with a Valid Certificate at least three Business Days prior to the Withholding',\n",
       "  'Days prior to the Withholding Drop Date. If a Payee (i) does not provide Buyer or the Paying Agent'],\n",
       " 'ground_truth': 'Buyer or the Paying Agent determines the tax withholding for payments made by the Buyer or the Paying Agent.'}"
      ]
     },
     "execution_count": 212,
     "metadata": {},
     "output_type": "execute_result"
    }
   ],
   "source": [
    "response_dataset[0]"
   ]
  },
  {
   "cell_type": "code",
   "execution_count": 214,
   "id": "335d23ed-4b56-49b6-9562-3664455b367d",
   "metadata": {
    "tags": []
   },
   "outputs": [],
   "source": [
    "from ragas import evaluate\n",
    "from ragas.metrics import (\n",
    "    faithfulness,\n",
    "    answer_relevancy,\n",
    "    answer_correctness,\n",
    "    context_recall,\n",
    "    context_precision,\n",
    ")\n",
    "\n",
    "metrics = [\n",
    "    faithfulness,\n",
    "    answer_relevancy,\n",
    "    context_recall,\n",
    "    context_precision,\n",
    "    answer_correctness,\n",
    "]"
   ]
  },
  {
   "cell_type": "code",
   "execution_count": 216,
   "id": "9f65c6ba-6e07-48c8-b71b-aed5dce7c422",
   "metadata": {
    "tags": []
   },
   "outputs": [
    {
     "data": {
      "application/vnd.jupyter.widget-view+json": {
       "model_id": "fd05f450134646e9b6b65cc5c04ad705",
       "version_major": 2,
       "version_minor": 0
      },
      "text/plain": [
       "Evaluating:   0%|          | 0/60 [00:00<?, ?it/s]"
      ]
     },
     "metadata": {},
     "output_type": "display_data"
    },
    {
     "data": {
      "text/plain": [
       "{'faithfulness': 0.6764, 'answer_relevancy': 0.9845, 'context_recall': 0.8056, 'context_precision': 0.8125, 'answer_correctness': 0.5139}"
      ]
     },
     "execution_count": 216,
     "metadata": {},
     "output_type": "execute_result"
    }
   ],
   "source": [
    "results = evaluate(response_dataset, metrics)\n",
    "results"
   ]
  },
  {
   "cell_type": "code",
   "execution_count": 218,
   "id": "feba55ea-a675-49f3-b426-b35872db4fb6",
   "metadata": {
    "tags": []
   },
   "outputs": [
    {
     "data": {
      "text/html": [
       "<div>\n",
       "<style scoped>\n",
       "    .dataframe tbody tr th:only-of-type {\n",
       "        vertical-align: middle;\n",
       "    }\n",
       "\n",
       "    .dataframe tbody tr th {\n",
       "        vertical-align: top;\n",
       "    }\n",
       "\n",
       "    .dataframe thead th {\n",
       "        text-align: right;\n",
       "    }\n",
       "</style>\n",
       "<table border=\"1\" class=\"dataframe\">\n",
       "  <thead>\n",
       "    <tr style=\"text-align: right;\">\n",
       "      <th></th>\n",
       "      <th>question</th>\n",
       "      <th>answer</th>\n",
       "      <th>contexts</th>\n",
       "      <th>ground_truth</th>\n",
       "      <th>faithfulness</th>\n",
       "      <th>answer_relevancy</th>\n",
       "      <th>context_recall</th>\n",
       "      <th>context_precision</th>\n",
       "      <th>answer_correctness</th>\n",
       "    </tr>\n",
       "  </thead>\n",
       "  <tbody>\n",
       "    <tr>\n",
       "      <th>0</th>\n",
       "      <td>Who determines the tax withholding for payment...</td>\n",
       "      <td>The tax withholding for payments made by the B...</td>\n",
       "      <td>[will be subject to tax withholding as will be...</td>\n",
       "      <td>Buyer or the Paying Agent determines the tax w...</td>\n",
       "      <td>0.333333</td>\n",
       "      <td>1.000000</td>\n",
       "      <td>1.000000</td>\n",
       "      <td>1.00</td>\n",
       "      <td>0.530065</td>\n",
       "    </tr>\n",
       "    <tr>\n",
       "      <th>1</th>\n",
       "      <td>What types of transactions fall under the cont...</td>\n",
       "      <td>The types of transactions that fall under the ...</td>\n",
       "      <td>[Transactions by the Acquired Companies., Acqu...</td>\n",
       "      <td>The contractual obligations of an Acquired Com...</td>\n",
       "      <td>0.750000</td>\n",
       "      <td>1.000000</td>\n",
       "      <td>0.000000</td>\n",
       "      <td>1.00</td>\n",
       "      <td>0.237286</td>\n",
       "    </tr>\n",
       "    <tr>\n",
       "      <th>2</th>\n",
       "      <td>What requirements must a Seller that is not an...</td>\n",
       "      <td>To be considered duly organized and in good st...</td>\n",
       "      <td>[Organization.  In the case of each Seller tha...</td>\n",
       "      <td>A Seller that is not an individual must be dul...</td>\n",
       "      <td>0.500000</td>\n",
       "      <td>0.997190</td>\n",
       "      <td>1.000000</td>\n",
       "      <td>1.00</td>\n",
       "      <td>0.451938</td>\n",
       "    </tr>\n",
       "    <tr>\n",
       "      <th>3</th>\n",
       "      <td>Are there any pending or threatened condemnati...</td>\n",
       "      <td>Based on the information provided in the conte...</td>\n",
       "      <td>[is party that affects any of the Real Propert...</td>\n",
       "      <td>No eminent domain or condemnation Action is pe...</td>\n",
       "      <td>0.500000</td>\n",
       "      <td>0.999999</td>\n",
       "      <td>1.000000</td>\n",
       "      <td>0.00</td>\n",
       "      <td>0.230527</td>\n",
       "    </tr>\n",
       "    <tr>\n",
       "      <th>4</th>\n",
       "      <td>What items will the Sellers' Representative de...</td>\n",
       "      <td>At the Closing, the Sellers' Representative wi...</td>\n",
       "      <td>[in this Agreement, the Buyer shall deliver or...</td>\n",
       "      <td>nan</td>\n",
       "      <td>0.333333</td>\n",
       "      <td>0.982013</td>\n",
       "      <td>0.000000</td>\n",
       "      <td>0.00</td>\n",
       "      <td>0.177197</td>\n",
       "    </tr>\n",
       "    <tr>\n",
       "      <th>5</th>\n",
       "      <td>What payments become due upon termination of e...</td>\n",
       "      <td>Upon termination of employment or engagement o...</td>\n",
       "      <td>[termination of the employment or engagement o...</td>\n",
       "      <td>No severance or other payments will become due...</td>\n",
       "      <td>1.000000</td>\n",
       "      <td>1.000000</td>\n",
       "      <td>1.000000</td>\n",
       "      <td>1.00</td>\n",
       "      <td>0.655194</td>\n",
       "    </tr>\n",
       "    <tr>\n",
       "      <th>6</th>\n",
       "      <td>Who determines tax withholding if no declarati...</td>\n",
       "      <td>If no declaration is provided before payment t...</td>\n",
       "      <td>[Company’s payroll payment system. If such dec...</td>\n",
       "      <td>Buyer or the Paying Agent determines tax withh...</td>\n",
       "      <td>1.000000</td>\n",
       "      <td>0.985792</td>\n",
       "      <td>1.000000</td>\n",
       "      <td>0.75</td>\n",
       "      <td>0.839584</td>\n",
       "    </tr>\n",
       "    <tr>\n",
       "      <th>7</th>\n",
       "      <td>What are the acceptable methods for service of...</td>\n",
       "      <td>The acceptable methods for service of process ...</td>\n",
       "      <td>[with this Agreement in any manner permitted b...</td>\n",
       "      <td>The acceptable methods for service of process ...</td>\n",
       "      <td>0.500000</td>\n",
       "      <td>0.970649</td>\n",
       "      <td>1.000000</td>\n",
       "      <td>1.00</td>\n",
       "      <td>0.494173</td>\n",
       "    </tr>\n",
       "    <tr>\n",
       "      <th>8</th>\n",
       "      <td>Are there any ongoing obligations related to E...</td>\n",
       "      <td>Based on the information provided in the conte...</td>\n",
       "      <td>[no Acquired Company has any ongoing obligatio...</td>\n",
       "      <td>No, there are no ongoing obligations related t...</td>\n",
       "      <td>1.000000</td>\n",
       "      <td>0.986471</td>\n",
       "      <td>1.000000</td>\n",
       "      <td>1.00</td>\n",
       "      <td>0.541222</td>\n",
       "    </tr>\n",
       "    <tr>\n",
       "      <th>9</th>\n",
       "      <td>What types of transactions are considered cont...</td>\n",
       "      <td>The types of transactions that are considered ...</td>\n",
       "      <td>[any Contractual Obligation relating to the ac...</td>\n",
       "      <td>Contractual obligations relating to the acquis...</td>\n",
       "      <td>0.600000</td>\n",
       "      <td>0.945889</td>\n",
       "      <td>1.000000</td>\n",
       "      <td>1.00</td>\n",
       "      <td>0.701617</td>\n",
       "    </tr>\n",
       "    <tr>\n",
       "      <th>10</th>\n",
       "      <td>How do contractual obligations affect severanc...</td>\n",
       "      <td>Contractual obligations can significantly impa...</td>\n",
       "      <td>[under which an Acquired Company is, or may be...</td>\n",
       "      <td>Upon termination of the employment or engageme...</td>\n",
       "      <td>0.800000</td>\n",
       "      <td>0.945452</td>\n",
       "      <td>1.000000</td>\n",
       "      <td>1.00</td>\n",
       "      <td>0.723108</td>\n",
       "    </tr>\n",
       "    <tr>\n",
       "      <th>11</th>\n",
       "      <td>What is the significance of the Buyer's consen...</td>\n",
       "      <td>The significance of the Buyer's consent in rel...</td>\n",
       "      <td>[consent of the Buyer, disclose or use, any co...</td>\n",
       "      <td>The Buyer's consent is required for the disclo...</td>\n",
       "      <td>0.800000</td>\n",
       "      <td>1.000000</td>\n",
       "      <td>0.666667</td>\n",
       "      <td>1.00</td>\n",
       "      <td>0.585386</td>\n",
       "    </tr>\n",
       "  </tbody>\n",
       "</table>\n",
       "</div>"
      ],
      "text/plain": [
       "                                             question  \\\n",
       "0   Who determines the tax withholding for payment...   \n",
       "1   What types of transactions fall under the cont...   \n",
       "2   What requirements must a Seller that is not an...   \n",
       "3   Are there any pending or threatened condemnati...   \n",
       "4   What items will the Sellers' Representative de...   \n",
       "5   What payments become due upon termination of e...   \n",
       "6   Who determines tax withholding if no declarati...   \n",
       "7   What are the acceptable methods for service of...   \n",
       "8   Are there any ongoing obligations related to E...   \n",
       "9   What types of transactions are considered cont...   \n",
       "10  How do contractual obligations affect severanc...   \n",
       "11  What is the significance of the Buyer's consen...   \n",
       "\n",
       "                                               answer  \\\n",
       "0   The tax withholding for payments made by the B...   \n",
       "1   The types of transactions that fall under the ...   \n",
       "2   To be considered duly organized and in good st...   \n",
       "3   Based on the information provided in the conte...   \n",
       "4   At the Closing, the Sellers' Representative wi...   \n",
       "5   Upon termination of employment or engagement o...   \n",
       "6   If no declaration is provided before payment t...   \n",
       "7   The acceptable methods for service of process ...   \n",
       "8   Based on the information provided in the conte...   \n",
       "9   The types of transactions that are considered ...   \n",
       "10  Contractual obligations can significantly impa...   \n",
       "11  The significance of the Buyer's consent in rel...   \n",
       "\n",
       "                                             contexts  \\\n",
       "0   [will be subject to tax withholding as will be...   \n",
       "1   [Transactions by the Acquired Companies., Acqu...   \n",
       "2   [Organization.  In the case of each Seller tha...   \n",
       "3   [is party that affects any of the Real Propert...   \n",
       "4   [in this Agreement, the Buyer shall deliver or...   \n",
       "5   [termination of the employment or engagement o...   \n",
       "6   [Company’s payroll payment system. If such dec...   \n",
       "7   [with this Agreement in any manner permitted b...   \n",
       "8   [no Acquired Company has any ongoing obligatio...   \n",
       "9   [any Contractual Obligation relating to the ac...   \n",
       "10  [under which an Acquired Company is, or may be...   \n",
       "11  [consent of the Buyer, disclose or use, any co...   \n",
       "\n",
       "                                         ground_truth  faithfulness  \\\n",
       "0   Buyer or the Paying Agent determines the tax w...      0.333333   \n",
       "1   The contractual obligations of an Acquired Com...      0.750000   \n",
       "2   A Seller that is not an individual must be dul...      0.500000   \n",
       "3   No eminent domain or condemnation Action is pe...      0.500000   \n",
       "4                                                 nan      0.333333   \n",
       "5   No severance or other payments will become due...      1.000000   \n",
       "6   Buyer or the Paying Agent determines tax withh...      1.000000   \n",
       "7   The acceptable methods for service of process ...      0.500000   \n",
       "8   No, there are no ongoing obligations related t...      1.000000   \n",
       "9   Contractual obligations relating to the acquis...      0.600000   \n",
       "10  Upon termination of the employment or engageme...      0.800000   \n",
       "11  The Buyer's consent is required for the disclo...      0.800000   \n",
       "\n",
       "    answer_relevancy  context_recall  context_precision  answer_correctness  \n",
       "0           1.000000        1.000000               1.00            0.530065  \n",
       "1           1.000000        0.000000               1.00            0.237286  \n",
       "2           0.997190        1.000000               1.00            0.451938  \n",
       "3           0.999999        1.000000               0.00            0.230527  \n",
       "4           0.982013        0.000000               0.00            0.177197  \n",
       "5           1.000000        1.000000               1.00            0.655194  \n",
       "6           0.985792        1.000000               0.75            0.839584  \n",
       "7           0.970649        1.000000               1.00            0.494173  \n",
       "8           0.986471        1.000000               1.00            0.541222  \n",
       "9           0.945889        1.000000               1.00            0.701617  \n",
       "10          0.945452        1.000000               1.00            0.723108  \n",
       "11          1.000000        0.666667               1.00            0.585386  "
      ]
     },
     "execution_count": 218,
     "metadata": {},
     "output_type": "execute_result"
    }
   ],
   "source": [
    "results_df = results.to_pandas()\n",
    "results_df"
   ]
  },
  {
   "cell_type": "code",
   "execution_count": null,
   "id": "3e6e8ff0-60df-4d83-bf67-4abc55a15f98",
   "metadata": {},
   "outputs": [],
   "source": []
  }
 ],
 "metadata": {
  "kernelspec": {
   "display_name": "Python 3 (ipykernel)",
   "language": "python",
   "name": "python3"
  },
  "language_info": {
   "codemirror_mode": {
    "name": "ipython",
    "version": 3
   },
   "file_extension": ".py",
   "mimetype": "text/x-python",
   "name": "python",
   "nbconvert_exporter": "python",
   "pygments_lexer": "ipython3",
   "version": "3.11.7"
  }
 },
 "nbformat": 4,
 "nbformat_minor": 5
}
