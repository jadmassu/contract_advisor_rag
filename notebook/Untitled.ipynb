{
 "cells": [
  {
   "cell_type": "code",
   "execution_count": 2,
   "id": "b847601a-b44c-4637-bea2-3c5b24300e96",
   "metadata": {},
   "outputs": [
    {
     "name": "stdout",
     "output_type": "stream",
     "text": [
      "Note: you may need to restart the kernel to use updated packages.\n"
     ]
    }
   ],
   "source": [
    "%pip install -qU langchain-text-splitters"
   ]
  },
  {
   "cell_type": "code",
   "execution_count": 54,
   "id": "e34f595e-3cb7-4487-a05f-f789e87ff197",
   "metadata": {
    "tags": []
   },
   "outputs": [
    {
     "name": "stdout",
     "output_type": "stream",
     "text": [
      "Requirement already satisfied: aiofiles in /home/user/anaconda3/lib/python3.11/site-packages (24.1.0)\n",
      "Note: you may need to restart the kernel to use updated packages.\n"
     ]
    }
   ],
   "source": [
    "%pip install aiofiles"
   ]
  },
  {
   "cell_type": "code",
   "execution_count": 1,
   "id": "e19d5b12-53c5-4c3f-8bf4-d81f9a0b8ff3",
   "metadata": {
    "tags": []
   },
   "outputs": [
    {
     "name": "stdout",
     "output_type": "stream",
     "text": [
      "Collecting python-docx\n",
      "  Downloading python_docx-1.1.2-py3-none-any.whl.metadata (2.0 kB)\n",
      "Requirement already satisfied: lxml>=3.1.0 in /home/user/anaconda3/lib/python3.11/site-packages (from python-docx) (4.9.3)\n",
      "Requirement already satisfied: typing-extensions>=4.9.0 in /home/user/anaconda3/lib/python3.11/site-packages (from python-docx) (4.9.0)\n",
      "Downloading python_docx-1.1.2-py3-none-any.whl (244 kB)\n",
      "\u001b[2K   \u001b[38;2;114;156;31m━━━━━━━━━━━━━━━━━━━━━━━━━━━━━━━━━━━━━━━\u001b[0m \u001b[32m244.3/244.3 kB\u001b[0m \u001b[31m104.5 kB/s\u001b[0m eta \u001b[36m0:00:00\u001b[0m1m101.9 kB/s\u001b[0m eta \u001b[36m0:00:01\u001b[0m\n",
      "\u001b[?25hInstalling collected packages: python-docx\n",
      "Successfully installed python-docx-1.1.2\n",
      "Note: you may need to restart the kernel to use updated packages.\n"
     ]
    }
   ],
   "source": [
    "%pip install python-docx"
   ]
  },
  {
   "cell_type": "code",
   "execution_count": 51,
   "id": "adbe00c5-bcb4-458a-8b7e-8b0026fa3365",
   "metadata": {
    "tags": []
   },
   "outputs": [],
   "source": [
    "import os, sys\n",
    "from dotenv import load_dotenv\n",
    "rpath = os.path.abspath('/home/user/Documents/10/w11/contract_advisor_rag')\n",
    "\n",
    "if rpath not in sys.path:\n",
    "    sys.path.insert(0, rpath)"
   ]
  },
  {
   "cell_type": "code",
   "execution_count": 53,
   "id": "1237c588-c260-4ecf-a0db-6cc97241f493",
   "metadata": {
    "tags": []
   },
   "outputs": [],
   "source": [
    "from typing import AsyncIterator, Iterator\n",
    "\n",
    "from langchain_core.document_loaders import BaseLoader\n",
    "from langchain_core.documents import Document"
   ]
  },
  {
   "cell_type": "code",
   "execution_count": 55,
   "id": "5ac85ae5-8e87-460d-a070-cca3fe0828c2",
   "metadata": {
    "tags": []
   },
   "outputs": [],
   "source": [
    "file_path = rpath + \"/data/Raptor Contract.docx\""
   ]
  },
  {
   "cell_type": "code",
   "execution_count": 57,
   "id": "33ad0282-d482-4c01-9b07-e36d1b6d79fc",
   "metadata": {
    "tags": []
   },
   "outputs": [],
   "source": [
    "from docx import Document as DocxDocument\n",
    "from typing import Iterator\n",
    "def lazy_load(file_path) -> Iterator[Document]:  # <-- Does not take any arguments\n",
    "        \"\"\"A lazy loader that reads a file line by line.\n",
    "\n",
    "        When you're implementing lazy load methods, you should use a generator\n",
    "        to yield documents one by one.\n",
    "        \"\"\"\n",
    "        try:\n",
    "            doc = DocxDocument(file_path)\n",
    "            line_number = 0\n",
    "            for para in doc.paragraphs:\n",
    "                if para.text.strip():  # Skip empty paragraphs\n",
    "                    yield Document(\n",
    "                        page_content=para.text,\n",
    "                        metadata={\"line_number\": line_number, \"source\": file_path},\n",
    "                    )\n",
    "                    line_number += 1\n",
    "        except Exception as e:\n",
    "            print(f\"Error reading {file_path}: {str(e)}\")"
   ]
  },
  {
   "cell_type": "code",
   "execution_count": 59,
   "id": "5cd47a30-6d3d-4cd0-b6ba-517c031dbebf",
   "metadata": {
    "tags": []
   },
   "outputs": [],
   "source": [
    "x = lazy_load(file_path)"
   ]
  },
  {
   "cell_type": "code",
   "execution_count": 61,
   "id": "1e8d1f76-267d-443b-bf13-75f0303d03b1",
   "metadata": {
    "tags": []
   },
   "outputs": [
    {
     "data": {
      "text/plain": [
       "<generator object lazy_load at 0x74e2e31b5d80>"
      ]
     },
     "execution_count": 61,
     "metadata": {},
     "output_type": "execute_result"
    }
   ],
   "source": [
    "## Test out the lazy load interface\n",
    "# for doc in x:\n",
    "#     print()\n",
    "#     print(type(doc))\n",
    "#     print(doc)\n",
    "x"
   ]
  },
  {
   "cell_type": "code",
   "execution_count": 63,
   "id": "930c4089-b346-431d-a741-71aba2625be3",
   "metadata": {},
   "outputs": [],
   "source": [
    "from langchain.text_splitter import RecursiveCharacterTextSplitter\n",
    "text_splitter = RecursiveCharacterTextSplitter(\n",
    "    # Set a really small chunk size, just to show.\n",
    "    separators=[\n",
    "        \"\\n\\n\",\n",
    "        \"\\n\",\n",
    "        \" \",\n",
    "        \".\",\n",
    "        \",\",\n",
    "        \"\\u200b\",  # Zero-width space\n",
    "        \"\\uff0c\",  # Fullwidth comma\n",
    "        \"\\u3001\",  # Ideographic comma\n",
    "        \"\\uff0e\",  # Fullwidth full stop\n",
    "        \"\\u3002\",  # Ideographic full stop\n",
    "        \"\",\n",
    "    ],\n",
    "    chunk_size=100,\n",
    "    chunk_overlap=20,\n",
    "    length_function=len,\n",
    "    is_separator_regex=False,\n",
    ")"
   ]
  },
  {
   "cell_type": "code",
   "execution_count": 65,
   "id": "166dbe7c-3d79-46e1-90cb-dc162c7e774c",
   "metadata": {
    "tags": []
   },
   "outputs": [],
   "source": [
    "documents = text_splitter.split_documents(x)"
   ]
  },
  {
   "cell_type": "code",
   "execution_count": 66,
   "id": "d11e2abd-c478-4341-9c9d-c357981aa9e7",
   "metadata": {},
   "outputs": [
    {
     "data": {
      "text/plain": [
       "Document(metadata={'line_number': 0, 'source': '/home/user/Documents/10/w11/contract_advisor_rag/data/Raptor Contract.docx'}, page_content='STOCK PURCHASE AGREEMENT')"
      ]
     },
     "execution_count": 66,
     "metadata": {},
     "output_type": "execute_result"
    }
   ],
   "source": [
    "documents[0]"
   ]
  },
  {
   "cell_type": "code",
   "execution_count": 83,
   "id": "797b5271-3e0e-41c1-8707-cb9d5f495005",
   "metadata": {
    "tags": []
   },
   "outputs": [],
   "source": [
    "from langchain_openai import OpenAIEmbeddings\n",
    "from langchain_chroma import Chroma\n",
    "import chromadb"
   ]
  },
  {
   "cell_type": "code",
   "execution_count": 74,
   "id": "9f02e767-50af-4be8-99b2-43d238e4bb12",
   "metadata": {
    "tags": []
   },
   "outputs": [
    {
     "data": {
      "text/plain": [
       "True"
      ]
     },
     "execution_count": 74,
     "metadata": {},
     "output_type": "execute_result"
    }
   ],
   "source": [
    "from dotenv import load_dotenv\n",
    "load_dotenv()"
   ]
  },
  {
   "cell_type": "code",
   "execution_count": 78,
   "id": "28546142-ed98-49ae-b40b-1d44552a40ec",
   "metadata": {
    "tags": []
   },
   "outputs": [],
   "source": [
    "api_key=os.getenv(\"OPENAI_API_KEY\")"
   ]
  },
  {
   "cell_type": "code",
   "execution_count": 95,
   "id": "80efa648-7122-46cf-9334-de688fd96177",
   "metadata": {
    "tags": []
   },
   "outputs": [],
   "source": [
    "persist_directory = rpath + \"/data\""
   ]
  },
  {
   "cell_type": "code",
   "execution_count": 97,
   "id": "fd03f06e-eb7f-411a-be79-8339a9bb64b1",
   "metadata": {
    "tags": []
   },
   "outputs": [],
   "source": [
    "embedding_function = OpenAIEmbeddings(  model=\"text-embedding-ada-002\")\n",
    "persistent_client = chromadb.PersistentClient()\n",
    "            # Store and load Chroma DB from disk\n",
    "db = Chroma.from_documents(documents, embedding_function,collection_name=\"doc\", persist_directory=persist_directory,client=persistent_client)"
   ]
  },
  {
   "cell_type": "code",
   "execution_count": 101,
   "id": "16269c41-dc1b-4f69-8e79-f52ec0d46557",
   "metadata": {
    "tags": []
   },
   "outputs": [
    {
     "data": {
      "text/plain": [
       "[(Document(metadata={'line_number': 405, 'source': '/home/user/Documents/10/w11/contract_advisor_rag/data/Raptor Contract.docx'}, page_content='INDIVIDUAL REPRESENTATIONS AND WARRANTIES OF THE SELLERS.'),\n",
       "  0.2554522454738617),\n",
       " (Document(metadata={'line_number': 423, 'source': '/home/user/Documents/10/w11/contract_advisor_rag/data/Raptor Contract.docx'}, page_content='with respect to the Contemplated Transactions for which the Sellers could be liable.'),\n",
       "  0.25967124104499817),\n",
       " (Document(metadata={'line_number': 481, 'source': '/home/user/Documents/10/w11/contract_advisor_rag/data/Raptor Contract.docx'}, page_content='Provisions Concerning the Sellers’ Representative.'),\n",
       "  0.2599860429763794),\n",
       " (Document(metadata={'line_number': 415, 'source': '/home/user/Documents/10/w11/contract_advisor_rag/data/Raptor Contract.docx'}, page_content='REPRESENTATIONS AND WARRANTIES OF THE BUYER.'),\n",
       "  0.26840740442276)]"
      ]
     },
     "execution_count": 101,
     "metadata": {},
     "output_type": "execute_result"
    }
   ],
   "source": [
    "db.similarity_search_with_score(\"Under what circumstances and to what extent the Sellers are responsible for a breach of representations and warranties\")"
   ]
  },
  {
   "cell_type": "code",
   "execution_count": null,
   "id": "00d0d340-9fce-4e2f-8c32-c0429ea477bb",
   "metadata": {},
   "outputs": [],
   "source": []
  }
 ],
 "metadata": {
  "kernelspec": {
   "display_name": "Python 3 (ipykernel)",
   "language": "python",
   "name": "python3"
  },
  "language_info": {
   "codemirror_mode": {
    "name": "ipython",
    "version": 3
   },
   "file_extension": ".py",
   "mimetype": "text/x-python",
   "name": "python",
   "nbconvert_exporter": "python",
   "pygments_lexer": "ipython3",
   "version": "3.11.7"
  }
 },
 "nbformat": 4,
 "nbformat_minor": 5
}
